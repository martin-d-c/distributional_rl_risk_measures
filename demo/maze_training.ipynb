{
 "cells": [
  {
   "cell_type": "markdown",
   "metadata": {},
   "source": [
    "# Maze training"
   ]
  },
  {
   "cell_type": "markdown",
   "metadata": {},
   "source": [
    "## Imports"
   ]
  },
  {
   "cell_type": "code",
   "execution_count": 1,
   "metadata": {},
   "outputs": [],
   "source": [
    "import sys\n",
    "import numpy as np\n",
    "import matplotlib.pyplot as plt\n",
    "%matplotlib inline\n",
    "\n",
    "import torch.nn as nn\n",
    "import torch.optim as optim"
   ]
  },
  {
   "cell_type": "code",
   "execution_count": 2,
   "metadata": {},
   "outputs": [],
   "source": [
    "# To reload the module\n",
    "%load_ext autoreload\n",
    "%autoreload 2\n",
    "sys.path.append('../')\n",
    "from maze.maze_class import Qmaze, show, play_game, play_stoch_game, print_stoch_policy\n",
    "from maze.rl_methods import qtrain, qtrain_change_maze\n",
    "from maze.drl_methods import moment_2_TD_learning, online_categorical_TD_learning\n",
    "from src.utils import fix_seeds\n",
    "from src.network import Net"
   ]
  },
  {
   "cell_type": "code",
   "execution_count": 3,
   "metadata": {},
   "outputs": [],
   "source": [
    "# Constantes\n",
    "LEFT = 0\n",
    "UP = 1\n",
    "RIGHT = 2\n",
    "DOWN = 3\n",
    "\n",
    "# Actions dictionary\n",
    "actions_dict = {\n",
    "    LEFT: 'left',\n",
    "    UP: 'up',\n",
    "    RIGHT: 'right',\n",
    "    DOWN: 'down',\n",
    "}\n",
    "\n",
    "num_actions = 4"
   ]
  },
  {
   "cell_type": "markdown",
   "metadata": {},
   "source": [
    "## First configuration"
   ]
  },
  {
   "cell_type": "code",
   "execution_count": 28,
   "metadata": {},
   "outputs": [
    {
     "data": {
      "text/plain": [
       "<matplotlib.image.AxesImage at 0x2430dc1fe48>"
      ]
     },
     "execution_count": 28,
     "metadata": {},
     "output_type": "execute_result"
    },
    {
     "data": {
      "image/png": "[encoded data removed]",
      "text/plain": [
       "<Figure size 432x288 with 1 Axes>"
      ]
     },
     "metadata": {
      "needs_background": "light"
     },
     "output_type": "display_data"
    }
   ],
   "source": [
    "# Configuration where the risky strategy is optimal\n",
    "maze1 = np.array([[1.,0.,1.,-1.,1.],\n",
    "                 [1.,0.,1.,0.,1.],\n",
    "                 [1.,0.,1.,1.,1.],\n",
    "                 [1.,0.,1.,0.,1.],\n",
    "                 [1.,1.,1.,1.,1.]])\n",
    "qmaze1 = Qmaze(maze=maze1, random_init=False, door_mode=False)\n",
    "show(qmaze1)"
   ]
  },
  {
   "cell_type": "code",
   "execution_count": 39,
   "metadata": {},
   "outputs": [
    {
     "name": "stdout",
     "output_type": "stream",
     "text": [
      "Epoch: 000/29 | Loss: 0.0000 | Episodes: 1 | Win count: 1 | Win rate: 0.000 | time: 0.0 seconds\n",
      "Epoch: 001/29 | Loss: 0.0000 | Episodes: 1 | Win count: 2 | Win rate: 0.000 | time: 0.0 seconds\n",
      "Epoch: 002/29 | Loss: 0.0000 | Episodes: 26 | Win count: 2 | Win rate: 0.000 | time: 0.1 seconds\n",
      "Epoch: 003/29 | Loss: 5.6469 | Episodes: 27 | Win count: 2 | Win rate: 0.000 | time: 0.8 seconds\n",
      "Epoch: 004/29 | Loss: 2.5264 | Episodes: 12 | Win count: 3 | Win rate: 0.000 | time: 1.1 seconds\n",
      "Epoch: 005/29 | Loss: 0.1755 | Episodes: 1 | Win count: 4 | Win rate: 0.000 | time: 1.1 seconds\n",
      "Epoch: 006/29 | Loss: 1.2456 | Episodes: 10 | Win count: 5 | Win rate: 0.000 | time: 1.4 seconds\n",
      "Epoch: 007/29 | Loss: 5.3011 | Episodes: 30 | Win count: 5 | Win rate: 0.000 | time: 2.2 seconds\n",
      "Epoch: 008/29 | Loss: 5.0041 | Episodes: 43 | Win count: 5 | Win rate: 0.000 | time: 3.3 seconds\n",
      "Epoch: 009/29 | Loss: 0.1069 | Episodes: 1 | Win count: 6 | Win rate: 0.000 | time: 3.3 seconds\n",
      "Epoch: 010/29 | Loss: 0.0807 | Episodes: 1 | Win count: 7 | Win rate: 0.600 | time: 3.3 seconds\n",
      "Epoch: 011/29 | Loss: 4.4968 | Episodes: 53 | Win count: 7 | Win rate: 0.500 | time: 4.5 seconds\n",
      "Epoch: 012/29 | Loss: 0.0896 | Episodes: 2 | Win count: 8 | Win rate: 0.600 | time: 4.6 seconds\n",
      "Epoch: 013/29 | Loss: 2.8524 | Episodes: 55 | Win count: 9 | Win rate: 0.700 | time: 5.9 seconds\n",
      "Epoch: 014/29 | Loss: 0.3712 | Episodes: 8 | Win count: 10 | Win rate: 0.700 | time: 6.1 seconds\n",
      "Epoch: 015/29 | Loss: 1.2886 | Episodes: 31 | Win count: 11 | Win rate: 0.700 | time: 6.9 seconds\n",
      "Epoch: 016/29 | Loss: 0.2853 | Episodes: 8 | Win count: 12 | Win rate: 0.700 | time: 7.2 seconds\n",
      "Epoch: 017/29 | Loss: 0.0304 | Episodes: 2 | Win count: 13 | Win rate: 0.800 | time: 7.2 seconds\n",
      "Epoch: 018/29 | Loss: 0.1824 | Episodes: 6 | Win count: 14 | Win rate: 0.900 | time: 7.4 seconds\n",
      "Epoch: 019/29 | Loss: 0.0694 | Episodes: 2 | Win count: 15 | Win rate: 0.900 | time: 7.5 seconds\n",
      "Epoch: 020/29 | Loss: 0.0292 | Episodes: 2 | Win count: 16 | Win rate: 0.900 | time: 7.6 seconds\n",
      "Epoch: 021/29 | Loss: 0.1386 | Episodes: 5 | Win count: 17 | Win rate: 1.000 | time: 7.9 seconds\n",
      "Epoch: 022/29 | Loss: 0.3326 | Episodes: 8 | Win count: 18 | Win rate: 1.000 | time: 8.2 seconds\n",
      "Epoch: 023/29 | Loss: 0.1795 | Episodes: 5 | Win count: 19 | Win rate: 1.000 | time: 8.4 seconds\n",
      "Epoch: 024/29 | Loss: 0.2470 | Episodes: 4 | Win count: 20 | Win rate: 1.000 | time: 8.6 seconds\n",
      "Epoch: 025/29 | Loss: 0.1068 | Episodes: 4 | Win count: 21 | Win rate: 1.000 | time: 8.8 seconds\n",
      "Epoch: 026/29 | Loss: 0.1212 | Episodes: 4 | Win count: 22 | Win rate: 1.000 | time: 9.0 seconds\n",
      "Epoch: 027/29 | Loss: 0.1473 | Episodes: 3 | Win count: 23 | Win rate: 1.000 | time: 9.2 seconds\n",
      "Epoch: 028/29 | Loss: 0.1033 | Episodes: 5 | Win count: 24 | Win rate: 1.000 | time: 9.4 seconds\n",
      "Epoch: 029/29 | Loss: 0.0745 | Episodes: 3 | Win count: 25 | Win rate: 1.000 | time: 9.5 seconds\n",
      "n_epoch: 29, max_mem: 200, data: 16, time: 9.5 seconds\n"
     ]
    },
    {
     "data": {
      "image/png": "[encoded data removed]",
      "text/plain": [
       "<Figure size 432x288 with 1 Axes>"
      ]
     },
     "metadata": {
      "needs_background": "light"
     },
     "output_type": "display_data"
    },
    {
     "name": "stdout",
     "output_type": "stream",
     "text": [
      "Vizualisation of the trained policy\n"
     ]
    },
    {
     "data": {
      "text/plain": [
       "[['↓', '#', '↓', '←', '↓'],\n",
       " ['↓', '#', '↓', '#', '↓'],\n",
       " ['↓', '#', '↓', '→', '↓'],\n",
       " ['↓', '#', '↓', '#', '↓'],\n",
       " ['→', '→', '→', '→', 'G']]"
      ]
     },
     "execution_count": 39,
     "metadata": {},
     "output_type": "execute_result"
    }
   ],
   "source": [
    "loss_n = nn.MSELoss()\n",
    "n_epoch = 30\n",
    "fix_seeds()\n",
    "model1 = Net(maze1.size, num_actions)\n",
    "optimizer = optim.Adam(model1.parameters())\n",
    "\n",
    "tab_loss, tab_cumulative_reward, tab_win = qtrain(model1, qmaze1, optimizer, loss_n, n_epoch=n_epoch, max_memory=8*maze1.size, n_epoch_fit=8, \n",
    "                    name='model_parameters_config_1', eps_decay=0.95, eps_start=0.9)\n",
    "\n",
    "plt.plot(tab_loss)\n",
    "plt.ylabel(\"Loss\")\n",
    "plt.xlabel(\"Epochs\")\n",
    "plt.show()\n",
    "\n",
    "print(\"Vizualisation of the trained policy\")\n",
    "print_stoch_policy(model1, qmaze1) # to check the training went well"
   ]
  },
  {
   "cell_type": "markdown",
   "metadata": {},
   "source": [
    "## Second configuration"
   ]
  },
  {
   "cell_type": "code",
   "execution_count": 6,
   "metadata": {},
   "outputs": [
    {
     "data": {
      "text/plain": [
       "<matplotlib.image.AxesImage at 0x1b72e853f48>"
      ]
     },
     "execution_count": 6,
     "metadata": {},
     "output_type": "execute_result"
    },
    {
     "data": {
      "image/png": "[encoded data removed]",
      "text/plain": [
       "<Figure size 432x288 with 1 Axes>"
      ]
     },
     "metadata": {
      "needs_background": "light"
     },
     "output_type": "display_data"
    }
   ],
   "source": [
    "# Configuration where the safe strategy is optimal\n",
    "maze2 = np.array([[1.,0.,1.,-1.,1.],\n",
    "                 [1.,0.,1.,0.,1.],\n",
    "                 [1.,0.,1.,1.,1.],\n",
    "                 [1.,0.,1.,0.,1.],\n",
    "                 [1.,1.,1.,-1.,1.]])\n",
    "qmaze2 = Qmaze(maze=maze2, random_init=False, door_mode=True, prob_door_close=1.)\n",
    "show(qmaze2)"
   ]
  },
  {
   "cell_type": "code",
   "execution_count": 7,
   "metadata": {},
   "outputs": [
    {
     "name": "stdout",
     "output_type": "stream",
     "text": [
      "Epoch: 000/29 | Loss: 0.0000 | Episodes: 1 | Win count: 1 | Win rate: 0.000 | time: 0.0 seconds\n",
      "Epoch: 001/29 | Loss: 0.0000 | Episodes: 27 | Win count: 1 | Win rate: 0.000 | time: 0.0 seconds\n",
      "Epoch: 002/29 | Loss: 1.9585 | Episodes: 12 | Win count: 2 | Win rate: 0.000 | time: 0.3 seconds\n",
      "Epoch: 003/29 | Loss: 3.0403 | Episodes: 25 | Win count: 2 | Win rate: 0.000 | time: 1.2 seconds\n",
      "Epoch: 004/29 | Loss: 3.7090 | Episodes: 27 | Win count: 3 | Win rate: 0.000 | time: 2.1 seconds\n",
      "Epoch: 005/29 | Loss: 0.5231 | Episodes: 4 | Win count: 4 | Win rate: 0.000 | time: 2.2 seconds\n",
      "Epoch: 006/29 | Loss: 3.8300 | Episodes: 37 | Win count: 4 | Win rate: 0.000 | time: 3.5 seconds\n",
      "Epoch: 007/29 | Loss: 0.1177 | Episodes: 1 | Win count: 5 | Win rate: 0.000 | time: 3.6 seconds\n",
      "Epoch: 008/29 | Loss: 0.2361 | Episodes: 3 | Win count: 6 | Win rate: 0.000 | time: 3.6 seconds\n",
      "Epoch: 009/29 | Loss: 3.5029 | Episodes: 43 | Win count: 6 | Win rate: 0.000 | time: 4.6 seconds\n",
      "Epoch: 010/29 | Loss: 3.9475 | Episodes: 56 | Win count: 6 | Win rate: 0.500 | time: 5.8 seconds\n",
      "Epoch: 011/29 | Loss: 2.2022 | Episodes: 40 | Win count: 6 | Win rate: 0.500 | time: 6.7 seconds\n",
      "Epoch: 012/29 | Loss: 0.2286 | Episodes: 4 | Win count: 7 | Win rate: 0.500 | time: 6.8 seconds\n",
      "Epoch: 013/29 | Loss: 2.6293 | Episodes: 42 | Win count: 8 | Win rate: 0.600 | time: 7.8 seconds\n",
      "Epoch: 014/29 | Loss: 0.2981 | Episodes: 7 | Win count: 9 | Win rate: 0.600 | time: 7.9 seconds\n",
      "Epoch: 015/29 | Loss: 0.0879 | Episodes: 1 | Win count: 10 | Win rate: 0.600 | time: 7.9 seconds\n",
      "Epoch: 016/29 | Loss: 0.3351 | Episodes: 6 | Win count: 11 | Win rate: 0.700 | time: 8.1 seconds\n",
      "Epoch: 017/29 | Loss: 0.6801 | Episodes: 15 | Win count: 12 | Win rate: 0.700 | time: 8.4 seconds\n",
      "Epoch: 018/29 | Loss: 0.7464 | Episodes: 13 | Win count: 13 | Win rate: 0.700 | time: 8.7 seconds\n",
      "Epoch: 019/29 | Loss: 0.2244 | Episodes: 6 | Win count: 14 | Win rate: 0.800 | time: 8.8 seconds\n",
      "Epoch: 020/29 | Loss: 0.7474 | Episodes: 16 | Win count: 15 | Win rate: 0.900 | time: 9.1 seconds\n",
      "Epoch: 021/29 | Loss: 0.2948 | Episodes: 8 | Win count: 16 | Win rate: 1.000 | time: 9.3 seconds\n",
      "Epoch: 022/29 | Loss: 0.1004 | Episodes: 3 | Win count: 17 | Win rate: 1.000 | time: 9.4 seconds\n",
      "Epoch: 023/29 | Loss: 0.3001 | Episodes: 9 | Win count: 18 | Win rate: 1.000 | time: 9.5 seconds\n",
      "Epoch: 024/29 | Loss: 0.1995 | Episodes: 6 | Win count: 19 | Win rate: 1.000 | time: 9.7 seconds\n",
      "Epoch: 025/29 | Loss: 0.0643 | Episodes: 1 | Win count: 20 | Win rate: 1.000 | time: 9.7 seconds\n",
      "Epoch: 026/29 | Loss: 0.1134 | Episodes: 7 | Win count: 21 | Win rate: 1.000 | time: 9.8 seconds\n",
      "Epoch: 027/29 | Loss: 0.2095 | Episodes: 9 | Win count: 22 | Win rate: 1.000 | time: 10.1 seconds\n",
      "Epoch: 028/29 | Loss: 0.0881 | Episodes: 4 | Win count: 23 | Win rate: 1.000 | time: 10.2 seconds\n",
      "Epoch: 029/29 | Loss: 0.1911 | Episodes: 6 | Win count: 24 | Win rate: 1.000 | time: 10.3 seconds\n",
      "n_epoch: 29, max_mem: 200, data: 16, time: 10.3 seconds\n"
     ]
    },
    {
     "data": {
      "image/png": "[encoded data removed]",
      "text/plain": [
       "<Figure size 432x288 with 1 Axes>"
      ]
     },
     "metadata": {
      "needs_background": "light"
     },
     "output_type": "display_data"
    },
    {
     "name": "stdout",
     "output_type": "stream",
     "text": [
      "Vizualisation of the trained policy\n"
     ]
    },
    {
     "data": {
      "text/plain": [
       "[['↓', '#', '↓', '↓', '↓'],\n",
       " ['↓', '#', '↑', '#', '↓'],\n",
       " ['↓', '#', '→', '→', '↓'],\n",
       " ['↓', '#', '↑', '#', '↓'],\n",
       " ['→', '→', '↑', '→', 'G']]"
      ]
     },
     "execution_count": 7,
     "metadata": {},
     "output_type": "execute_result"
    }
   ],
   "source": [
    "n_epoch = 30\n",
    "loss_n = nn.MSELoss()\n",
    "fix_seeds()\n",
    "model2 = Net(maze2.size, num_actions)\n",
    "optimizer = optim.Adam(model2.parameters())\n",
    "tab_loss, tab_cumulative_reward, tab_win = qtrain(model2, qmaze2, optimizer, loss_n, n_epoch=n_epoch, max_memory=8*maze2.size, n_epoch_fit=8, \n",
    "                    name='model_parameters_config_2', eps_decay=0.95)\n",
    "\n",
    "plt.plot(tab_loss)\n",
    "plt.ylabel(\"Loss\")\n",
    "plt.xlabel(\"Epochs\")\n",
    "plt.show()\n",
    "\n",
    "\n",
    "print(\"Vizualisation of the trained policy\")\n",
    "print_stoch_policy(model2, qmaze2) # to check the training went well"
   ]
  },
  {
   "cell_type": "markdown",
   "metadata": {},
   "source": [
    "## Random configuration\n",
    "\n",
    "Here the special cells ( in red : (4,3) and (0,3) ) are closed with probability $p$.\n",
    "The risky strategy is optimal for $p \\leq p_{lim} \\overset{~}{=} 0.18$ and the safe one is optimal for $p \\geq p_{lim}$ \n",
    "\n",
    "We begin by training a model in the case $p \\leq p_{lim}$"
   ]
  },
  {
   "cell_type": "code",
   "execution_count": 4,
   "metadata": {},
   "outputs": [
    {
     "data": {
      "text/plain": [
       "<matplotlib.image.AxesImage at 0x1b72e0c9d48>"
      ]
     },
     "execution_count": 4,
     "metadata": {},
     "output_type": "execute_result"
    },
    {
     "data": {
      "image/png": "[encoded data removed]",
      "text/plain": [
       "<Figure size 432x288 with 1 Axes>"
      ]
     },
     "metadata": {
      "needs_background": "light"
     },
     "output_type": "display_data"
    }
   ],
   "source": [
    "maze3 = np.array([[1.,0.,1.,-1.,1.],\n",
    "                 [1.,0.,1.,0.,1.],\n",
    "                 [1.,0.,1.,1.,1.],\n",
    "                 [1.,0.,1.,0.,1.],\n",
    "                 [1.,1.,1.,-1.,1.]])\n",
    "p=0.1\n",
    "qmaze3 = Qmaze(maze=maze3, random_init=False, door_mode=True, prob_door_close=p) \n",
    "show(qmaze3)"
   ]
  },
  {
   "cell_type": "code",
   "execution_count": 5,
   "metadata": {},
   "outputs": [
    {
     "name": "stdout",
     "output_type": "stream",
     "text": [
      "Epoch: 000/199 | Loss: 0.0000 | Episodes: 1 | Win count: 1 | Win rate: 0.000 | time: 0.0 seconds\n",
      "Epoch: 001/199 | Loss: 4.8624 | Episodes: 39 | Win count: 1 | Win rate: 0.000 | time: 1.2 seconds\n",
      "Epoch: 002/199 | Loss: 6.3371 | Episodes: 34 | Win count: 2 | Win rate: 0.000 | time: 3.6 seconds\n",
      "Epoch: 003/199 | Loss: 6.3319 | Episodes: 45 | Win count: 2 | Win rate: 0.000 | time: 5.3 seconds\n",
      "Epoch: 004/199 | Loss: 4.8044 | Episodes: 43 | Win count: 2 | Win rate: 0.000 | time: 8.1 seconds\n",
      "Epoch: 005/199 | Loss: 1.5841 | Episodes: 12 | Win count: 3 | Win rate: 0.000 | time: 9.0 seconds\n",
      "Epoch: 006/199 | Loss: 3.6078 | Episodes: 38 | Win count: 4 | Win rate: 0.000 | time: 12.7 seconds\n",
      "Epoch: 007/199 | Loss: 1.5211 | Episodes: 15 | Win count: 5 | Win rate: 0.000 | time: 13.3 seconds\n",
      "Epoch: 008/199 | Loss: 0.7011 | Episodes: 9 | Win count: 6 | Win rate: 0.000 | time: 13.7 seconds\n",
      "Epoch: 009/199 | Loss: 1.1614 | Episodes: 15 | Win count: 7 | Win rate: 0.000 | time: 14.6 seconds\n",
      "Epoch: 010/199 | Loss: 0.2281 | Episodes: 3 | Win count: 8 | Win rate: 0.700 | time: 14.8 seconds\n",
      "Epoch: 011/199 | Loss: 0.3755 | Episodes: 5 | Win count: 9 | Win rate: 0.800 | time: 15.2 seconds\n",
      "Epoch: 012/199 | Loss: 0.2803 | Episodes: 4 | Win count: 10 | Win rate: 0.800 | time: 15.6 seconds\n",
      "Epoch: 013/199 | Loss: 0.1178 | Episodes: 2 | Win count: 11 | Win rate: 0.900 | time: 15.7 seconds\n",
      "Epoch: 014/199 | Loss: 0.9440 | Episodes: 11 | Win count: 12 | Win rate: 1.000 | time: 16.3 seconds\n",
      "Epoch: 015/199 | Loss: 0.6955 | Episodes: 8 | Win count: 13 | Win rate: 1.000 | time: 16.7 seconds\n",
      "Epoch: 016/199 | Loss: 0.3026 | Episodes: 4 | Win count: 14 | Win rate: 1.000 | time: 16.9 seconds\n",
      "Epoch: 017/199 | Loss: 0.3263 | Episodes: 5 | Win count: 15 | Win rate: 1.000 | time: 17.1 seconds\n",
      "Epoch: 018/199 | Loss: 0.3227 | Episodes: 5 | Win count: 16 | Win rate: 1.000 | time: 17.3 seconds\n",
      "Epoch: 019/199 | Loss: 1.0751 | Episodes: 13 | Win count: 17 | Win rate: 1.000 | time: 17.9 seconds\n",
      "Epoch: 020/199 | Loss: 0.2925 | Episodes: 4 | Win count: 18 | Win rate: 1.000 | time: 18.0 seconds\n",
      "Epoch: 021/199 | Loss: 0.7504 | Episodes: 11 | Win count: 19 | Win rate: 1.000 | time: 18.5 seconds\n",
      "Epoch: 022/199 | Loss: 0.3766 | Episodes: 5 | Win count: 20 | Win rate: 1.000 | time: 18.8 seconds\n",
      "Epoch: 023/199 | Loss: 0.3399 | Episodes: 5 | Win count: 21 | Win rate: 1.000 | time: 19.0 seconds\n",
      "Epoch: 024/199 | Loss: 0.2156 | Episodes: 3 | Win count: 22 | Win rate: 1.000 | time: 19.3 seconds\n",
      "Epoch: 025/199 | Loss: 0.1941 | Episodes: 3 | Win count: 23 | Win rate: 1.000 | time: 19.4 seconds\n",
      "Epoch: 026/199 | Loss: 0.1869 | Episodes: 2 | Win count: 24 | Win rate: 1.000 | time: 19.5 seconds\n",
      "Epoch: 027/199 | Loss: 0.2761 | Episodes: 4 | Win count: 25 | Win rate: 1.000 | time: 19.7 seconds\n",
      "Epoch: 028/199 | Loss: 0.4549 | Episodes: 7 | Win count: 26 | Win rate: 1.000 | time: 20.0 seconds\n",
      "Epoch: 029/199 | Loss: 0.2210 | Episodes: 3 | Win count: 27 | Win rate: 1.000 | time: 20.1 seconds\n",
      "Epoch: 030/199 | Loss: 0.2721 | Episodes: 5 | Win count: 28 | Win rate: 1.000 | time: 20.3 seconds\n",
      "Epoch: 031/199 | Loss: 0.2054 | Episodes: 4 | Win count: 29 | Win rate: 1.000 | time: 20.5 seconds\n",
      "Epoch: 032/199 | Loss: 0.3041 | Episodes: 5 | Win count: 30 | Win rate: 1.000 | time: 20.7 seconds\n",
      "Epoch: 033/199 | Loss: 0.7128 | Episodes: 13 | Win count: 31 | Win rate: 1.000 | time: 21.2 seconds\n",
      "Epoch: 034/199 | Loss: 0.3918 | Episodes: 6 | Win count: 32 | Win rate: 1.000 | time: 21.5 seconds\n",
      "Epoch: 035/199 | Loss: 0.5445 | Episodes: 9 | Win count: 33 | Win rate: 1.000 | time: 22.2 seconds\n",
      "Epoch: 036/199 | Loss: 0.7094 | Episodes: 15 | Win count: 34 | Win rate: 1.000 | time: 22.9 seconds\n",
      "Epoch: 037/199 | Loss: 0.3024 | Episodes: 8 | Win count: 35 | Win rate: 1.000 | time: 23.2 seconds\n",
      "Epoch: 038/199 | Loss: 0.1579 | Episodes: 4 | Win count: 36 | Win rate: 1.000 | time: 23.3 seconds\n",
      "Epoch: 039/199 | Loss: 0.1410 | Episodes: 4 | Win count: 37 | Win rate: 1.000 | time: 23.4 seconds\n",
      "Epoch: 040/199 | Loss: 0.1232 | Episodes: 4 | Win count: 38 | Win rate: 1.000 | time: 23.6 seconds\n",
      "Epoch: 041/199 | Loss: 0.3144 | Episodes: 7 | Win count: 39 | Win rate: 1.000 | time: 23.9 seconds\n",
      "Epoch: 042/199 | Loss: 0.4039 | Episodes: 9 | Win count: 40 | Win rate: 1.000 | time: 24.2 seconds\n",
      "Epoch: 043/199 | Loss: 0.2295 | Episodes: 4 | Win count: 41 | Win rate: 1.000 | time: 24.3 seconds\n",
      "Epoch: 044/199 | Loss: 0.0918 | Episodes: 2 | Win count: 42 | Win rate: 1.000 | time: 24.4 seconds\n",
      "Epoch: 045/199 | Loss: 0.2410 | Episodes: 4 | Win count: 43 | Win rate: 1.000 | time: 24.5 seconds\n",
      "Epoch: 046/199 | Loss: 0.0593 | Episodes: 3 | Win count: 44 | Win rate: 1.000 | time: 24.7 seconds\n",
      "Epoch: 047/199 | Loss: 0.3121 | Episodes: 6 | Win count: 45 | Win rate: 1.000 | time: 24.9 seconds\n",
      "Epoch: 048/199 | Loss: 0.6877 | Episodes: 14 | Win count: 46 | Win rate: 1.000 | time: 25.4 seconds\n",
      "Epoch: 049/199 | Loss: 0.1297 | Episodes: 4 | Win count: 47 | Win rate: 1.000 | time: 25.6 seconds\n",
      "Epoch: 050/199 | Loss: 0.2295 | Episodes: 4 | Win count: 48 | Win rate: 1.000 | time: 25.7 seconds\n",
      "Epoch: 051/199 | Loss: 0.1902 | Episodes: 4 | Win count: 49 | Win rate: 1.000 | time: 25.9 seconds\n",
      "Epoch: 052/199 | Loss: 0.0905 | Episodes: 2 | Win count: 50 | Win rate: 1.000 | time: 26.0 seconds\n",
      "Epoch: 053/199 | Loss: 0.0112 | Episodes: 1 | Win count: 51 | Win rate: 1.000 | time: 26.0 seconds\n",
      "Epoch: 054/199 | Loss: 0.3772 | Episodes: 14 | Win count: 52 | Win rate: 1.000 | time: 26.5 seconds\n",
      "Epoch: 055/199 | Loss: 0.3149 | Episodes: 6 | Win count: 53 | Win rate: 1.000 | time: 26.7 seconds\n",
      "Epoch: 056/199 | Loss: 0.4352 | Episodes: 11 | Win count: 54 | Win rate: 1.000 | time: 27.1 seconds\n",
      "Epoch: 057/199 | Loss: 0.2120 | Episodes: 6 | Win count: 55 | Win rate: 1.000 | time: 27.5 seconds\n",
      "Epoch: 058/199 | Loss: 0.0960 | Episodes: 2 | Win count: 56 | Win rate: 1.000 | time: 27.6 seconds\n",
      "Epoch: 059/199 | Loss: 0.0772 | Episodes: 4 | Win count: 57 | Win rate: 1.000 | time: 27.7 seconds\n",
      "Epoch: 060/199 | Loss: 0.1508 | Episodes: 5 | Win count: 58 | Win rate: 1.000 | time: 27.9 seconds\n",
      "Epoch: 061/199 | Loss: 0.0385 | Episodes: 1 | Win count: 59 | Win rate: 1.000 | time: 27.9 seconds\n",
      "Epoch: 062/199 | Loss: 0.1041 | Episodes: 6 | Win count: 60 | Win rate: 1.000 | time: 28.2 seconds\n",
      "Epoch: 063/199 | Loss: 0.0349 | Episodes: 1 | Win count: 61 | Win rate: 1.000 | time: 28.2 seconds\n",
      "Epoch: 064/199 | Loss: 0.0106 | Episodes: 1 | Win count: 62 | Win rate: 1.000 | time: 28.3 seconds\n",
      "Epoch: 065/199 | Loss: 0.3225 | Episodes: 8 | Win count: 63 | Win rate: 1.000 | time: 28.6 seconds\n",
      "Epoch: 066/199 | Loss: 0.0896 | Episodes: 2 | Win count: 64 | Win rate: 1.000 | time: 28.7 seconds\n",
      "Epoch: 067/199 | Loss: 0.2497 | Episodes: 6 | Win count: 65 | Win rate: 1.000 | time: 28.9 seconds\n",
      "Epoch: 068/199 | Loss: 0.1905 | Episodes: 6 | Win count: 66 | Win rate: 1.000 | time: 29.2 seconds\n",
      "Epoch: 069/199 | Loss: 0.1247 | Episodes: 3 | Win count: 67 | Win rate: 1.000 | time: 29.3 seconds\n",
      "Epoch: 070/199 | Loss: 0.0521 | Episodes: 2 | Win count: 68 | Win rate: 1.000 | time: 29.4 seconds\n",
      "Epoch: 071/199 | Loss: 0.1832 | Episodes: 7 | Win count: 69 | Win rate: 1.000 | time: 29.6 seconds\n",
      "Epoch: 072/199 | Loss: 0.0903 | Episodes: 5 | Win count: 70 | Win rate: 1.000 | time: 29.8 seconds\n",
      "Epoch: 073/199 | Loss: 0.0816 | Episodes: 4 | Win count: 71 | Win rate: 1.000 | time: 30.0 seconds\n",
      "Epoch: 074/199 | Loss: 0.2302 | Episodes: 11 | Win count: 72 | Win rate: 1.000 | time: 30.4 seconds\n",
      "Epoch: 075/199 | Loss: 0.1708 | Episodes: 8 | Win count: 73 | Win rate: 1.000 | time: 30.6 seconds\n",
      "Epoch: 076/199 | Loss: 0.0569 | Episodes: 3 | Win count: 74 | Win rate: 1.000 | time: 30.7 seconds\n",
      "Epoch: 077/199 | Loss: 0.3084 | Episodes: 9 | Win count: 75 | Win rate: 1.000 | time: 31.1 seconds\n",
      "Epoch: 078/199 | Loss: 0.0645 | Episodes: 3 | Win count: 76 | Win rate: 1.000 | time: 31.2 seconds\n",
      "Epoch: 079/199 | Loss: 0.1185 | Episodes: 4 | Win count: 77 | Win rate: 1.000 | time: 31.3 seconds\n",
      "Epoch: 080/199 | Loss: 0.0667 | Episodes: 2 | Win count: 78 | Win rate: 1.000 | time: 31.4 seconds\n",
      "Epoch: 081/199 | Loss: 0.0077 | Episodes: 1 | Win count: 79 | Win rate: 1.000 | time: 31.4 seconds\n",
      "Epoch: 082/199 | Loss: 0.2552 | Episodes: 13 | Win count: 80 | Win rate: 1.000 | time: 32.0 seconds\n",
      "Epoch: 083/199 | Loss: 0.1325 | Episodes: 6 | Win count: 81 | Win rate: 1.000 | time: 32.2 seconds\n",
      "Epoch: 084/199 | Loss: 0.1007 | Episodes: 5 | Win count: 82 | Win rate: 1.000 | time: 32.4 seconds\n",
      "Epoch: 085/199 | Loss: 0.4412 | Episodes: 16 | Win count: 83 | Win rate: 1.000 | time: 33.1 seconds\n",
      "Epoch: 086/199 | Loss: 0.0138 | Episodes: 1 | Win count: 84 | Win rate: 1.000 | time: 33.1 seconds\n",
      "Epoch: 087/199 | Loss: 0.3239 | Episodes: 14 | Win count: 85 | Win rate: 1.000 | time: 33.7 seconds\n",
      "Epoch: 088/199 | Loss: 0.3390 | Episodes: 15 | Win count: 86 | Win rate: 1.000 | time: 34.2 seconds\n",
      "Epoch: 089/199 | Loss: 0.0498 | Episodes: 3 | Win count: 87 | Win rate: 1.000 | time: 34.3 seconds\n",
      "Epoch: 090/199 | Loss: 0.0512 | Episodes: 6 | Win count: 88 | Win rate: 1.000 | time: 34.5 seconds\n",
      "Epoch: 091/199 | Loss: 0.1597 | Episodes: 15 | Win count: 89 | Win rate: 1.000 | time: 35.1 seconds\n",
      "Epoch: 092/199 | Loss: 0.1292 | Episodes: 15 | Win count: 90 | Win rate: 1.000 | time: 35.7 seconds\n",
      "Epoch: 093/199 | Loss: 0.0236 | Episodes: 2 | Win count: 91 | Win rate: 1.000 | time: 35.7 seconds\n",
      "Epoch: 094/199 | Loss: 0.1786 | Episodes: 16 | Win count: 92 | Win rate: 1.000 | time: 36.2 seconds\n",
      "Epoch: 095/199 | Loss: 0.0528 | Episodes: 4 | Win count: 93 | Win rate: 1.000 | time: 36.4 seconds\n",
      "Epoch: 096/199 | Loss: 0.0790 | Episodes: 7 | Win count: 94 | Win rate: 1.000 | time: 36.7 seconds\n",
      "Epoch: 097/199 | Loss: 0.5022 | Episodes: 28 | Win count: 95 | Win rate: 1.000 | time: 37.7 seconds\n",
      "Epoch: 098/199 | Loss: 0.4620 | Episodes: 13 | Win count: 96 | Win rate: 1.000 | time: 38.1 seconds\n",
      "Epoch: 099/199 | Loss: 0.1781 | Episodes: 6 | Win count: 97 | Win rate: 1.000 | time: 38.4 seconds\n",
      "Epoch: 100/199 | Loss: 0.0257 | Episodes: 2 | Win count: 98 | Win rate: 1.000 | time: 38.5 seconds\n",
      "Epoch: 101/199 | Loss: 0.4033 | Episodes: 17 | Win count: 99 | Win rate: 1.000 | time: 39.2 seconds\n",
      "Epoch: 102/199 | Loss: 0.2182 | Episodes: 10 | Win count: 100 | Win rate: 1.000 | time: 39.6 seconds\n",
      "Epoch: 103/199 | Loss: 0.0084 | Episodes: 1 | Win count: 101 | Win rate: 1.000 | time: 39.7 seconds\n",
      "Epoch: 104/199 | Loss: 0.2584 | Episodes: 11 | Win count: 102 | Win rate: 1.000 | time: 40.0 seconds\n",
      "Epoch: 105/199 | Loss: 0.2456 | Episodes: 6 | Win count: 103 | Win rate: 1.000 | time: 41.2 seconds\n",
      "Epoch: 106/199 | Loss: 0.3780 | Episodes: 12 | Win count: 104 | Win rate: 1.000 | time: 42.3 seconds\n",
      "Epoch: 107/199 | Loss: 0.4105 | Episodes: 10 | Win count: 105 | Win rate: 1.000 | time: 43.1 seconds\n",
      "Epoch: 108/199 | Loss: 0.1643 | Episodes: 5 | Win count: 106 | Win rate: 1.000 | time: 43.5 seconds\n",
      "Epoch: 109/199 | Loss: 0.2161 | Episodes: 8 | Win count: 107 | Win rate: 1.000 | time: 45.7 seconds\n",
      "Epoch: 110/199 | Loss: 0.3770 | Episodes: 11 | Win count: 108 | Win rate: 1.000 | time: 46.5 seconds\n",
      "Epoch: 111/199 | Loss: 0.2169 | Episodes: 8 | Win count: 109 | Win rate: 1.000 | time: 47.2 seconds\n",
      "Epoch: 112/199 | Loss: 0.0930 | Episodes: 3 | Win count: 110 | Win rate: 1.000 | time: 47.4 seconds\n",
      "Epoch: 113/199 | Loss: 0.7006 | Episodes: 28 | Win count: 111 | Win rate: 1.000 | time: 49.8 seconds\n",
      "Epoch: 114/199 | Loss: 0.3727 | Episodes: 13 | Win count: 112 | Win rate: 1.000 | time: 50.4 seconds\n",
      "Epoch: 115/199 | Loss: 0.1238 | Episodes: 9 | Win count: 113 | Win rate: 1.000 | time: 50.8 seconds\n",
      "Epoch: 116/199 | Loss: 0.0568 | Episodes: 3 | Win count: 114 | Win rate: 1.000 | time: 50.9 seconds\n",
      "Epoch: 117/199 | Loss: 0.1501 | Episodes: 10 | Win count: 115 | Win rate: 1.000 | time: 51.2 seconds\n",
      "Epoch: 118/199 | Loss: 0.0648 | Episodes: 5 | Win count: 116 | Win rate: 1.000 | time: 51.3 seconds\n",
      "Epoch: 119/199 | Loss: 0.2793 | Episodes: 23 | Win count: 117 | Win rate: 1.000 | time: 52.4 seconds\n",
      "Epoch: 120/199 | Loss: 0.1823 | Episodes: 11 | Win count: 118 | Win rate: 1.000 | time: 52.8 seconds\n",
      "Epoch: 121/199 | Loss: 0.6186 | Episodes: 30 | Win count: 119 | Win rate: 1.000 | time: 54.1 seconds\n",
      "Epoch: 122/199 | Loss: 0.2907 | Episodes: 17 | Win count: 120 | Win rate: 1.000 | time: 55.1 seconds\n",
      "Epoch: 123/199 | Loss: 0.0739 | Episodes: 5 | Win count: 121 | Win rate: 1.000 | time: 56.1 seconds\n",
      "Epoch: 124/199 | Loss: 0.1091 | Episodes: 7 | Win count: 122 | Win rate: 1.000 | time: 57.2 seconds\n",
      "Epoch: 125/199 | Loss: 0.2882 | Episodes: 16 | Win count: 123 | Win rate: 1.000 | time: 58.2 seconds\n",
      "Epoch: 126/199 | Loss: 0.0484 | Episodes: 4 | Win count: 124 | Win rate: 1.000 | time: 58.3 seconds\n",
      "Epoch: 127/199 | Loss: 0.0986 | Episodes: 3 | Win count: 125 | Win rate: 1.000 | time: 58.5 seconds\n",
      "Epoch: 128/199 | Loss: 0.5607 | Episodes: 21 | Win count: 126 | Win rate: 1.000 | time: 60.3 seconds\n",
      "Epoch: 129/199 | Loss: 0.2374 | Episodes: 6 | Win count: 127 | Win rate: 1.000 | time: 60.7 seconds\n",
      "Epoch: 130/199 | Loss: 0.4758 | Episodes: 14 | Win count: 128 | Win rate: 1.000 | time: 61.5 seconds\n",
      "Epoch: 131/199 | Loss: 0.2215 | Episodes: 7 | Win count: 129 | Win rate: 1.000 | time: 61.7 seconds\n",
      "Epoch: 132/199 | Loss: 0.1263 | Episodes: 4 | Win count: 130 | Win rate: 1.000 | time: 61.9 seconds\n",
      "Epoch: 133/199 | Loss: 0.2272 | Episodes: 6 | Win count: 131 | Win rate: 1.000 | time: 62.2 seconds\n",
      "Epoch: 134/199 | Loss: 0.0314 | Episodes: 1 | Win count: 132 | Win rate: 1.000 | time: 62.3 seconds\n",
      "Epoch: 135/199 | Loss: 0.3509 | Episodes: 9 | Win count: 133 | Win rate: 1.000 | time: 62.7 seconds\n",
      "Epoch: 136/199 | Loss: 0.0875 | Episodes: 3 | Win count: 134 | Win rate: 1.000 | time: 62.8 seconds\n",
      "Epoch: 137/199 | Loss: 0.1370 | Episodes: 5 | Win count: 135 | Win rate: 1.000 | time: 63.0 seconds\n",
      "Epoch: 138/199 | Loss: 0.0497 | Episodes: 2 | Win count: 136 | Win rate: 1.000 | time: 63.1 seconds\n",
      "Epoch: 139/199 | Loss: 0.0991 | Episodes: 5 | Win count: 137 | Win rate: 1.000 | time: 63.3 seconds\n",
      "Epoch: 140/199 | Loss: 0.1718 | Episodes: 6 | Win count: 138 | Win rate: 1.000 | time: 63.5 seconds\n",
      "Epoch: 141/199 | Loss: 0.2316 | Episodes: 7 | Win count: 139 | Win rate: 1.000 | time: 63.7 seconds\n",
      "Epoch: 142/199 | Loss: 0.1859 | Episodes: 5 | Win count: 140 | Win rate: 1.000 | time: 64.0 seconds\n",
      "Epoch: 143/199 | Loss: 0.0805 | Episodes: 2 | Win count: 141 | Win rate: 1.000 | time: 64.1 seconds\n",
      "Epoch: 144/199 | Loss: 0.1394 | Episodes: 5 | Win count: 142 | Win rate: 1.000 | time: 64.3 seconds\n",
      "Epoch: 145/199 | Loss: 0.1260 | Episodes: 4 | Win count: 143 | Win rate: 1.000 | time: 64.5 seconds\n",
      "Epoch: 146/199 | Loss: 0.1867 | Episodes: 9 | Win count: 144 | Win rate: 1.000 | time: 64.9 seconds\n",
      "Epoch: 147/199 | Loss: 0.0781 | Episodes: 3 | Win count: 145 | Win rate: 1.000 | time: 65.0 seconds\n",
      "Epoch: 148/199 | Loss: 0.2899 | Episodes: 11 | Win count: 146 | Win rate: 1.000 | time: 65.6 seconds\n",
      "Epoch: 149/199 | Loss: 0.2197 | Episodes: 10 | Win count: 147 | Win rate: 1.000 | time: 66.2 seconds\n",
      "Epoch: 150/199 | Loss: 0.0766 | Episodes: 4 | Win count: 148 | Win rate: 1.000 | time: 66.4 seconds\n",
      "Epoch: 151/199 | Loss: 0.0836 | Episodes: 5 | Win count: 149 | Win rate: 1.000 | time: 66.7 seconds\n",
      "Epoch: 152/199 | Loss: 0.2090 | Episodes: 12 | Win count: 150 | Win rate: 1.000 | time: 67.2 seconds\n",
      "Epoch: 153/199 | Loss: 0.0519 | Episodes: 1 | Win count: 151 | Win rate: 1.000 | time: 67.3 seconds\n",
      "Epoch: 154/199 | Loss: 0.1127 | Episodes: 6 | Win count: 152 | Win rate: 1.000 | time: 67.5 seconds\n",
      "Epoch: 155/199 | Loss: 0.1044 | Episodes: 5 | Win count: 153 | Win rate: 1.000 | time: 67.6 seconds\n",
      "Epoch: 156/199 | Loss: 0.1640 | Episodes: 7 | Win count: 154 | Win rate: 1.000 | time: 67.8 seconds\n",
      "Epoch: 157/199 | Loss: 0.2245 | Episodes: 14 | Win count: 155 | Win rate: 1.000 | time: 68.3 seconds\n",
      "Epoch: 158/199 | Loss: 0.2366 | Episodes: 16 | Win count: 156 | Win rate: 1.000 | time: 68.9 seconds\n",
      "Epoch: 159/199 | Loss: 0.1260 | Episodes: 13 | Win count: 157 | Win rate: 1.000 | time: 69.4 seconds\n",
      "Epoch: 160/199 | Loss: 0.0847 | Episodes: 9 | Win count: 158 | Win rate: 1.000 | time: 70.0 seconds\n",
      "Epoch: 161/199 | Loss: 0.0068 | Episodes: 1 | Win count: 159 | Win rate: 1.000 | time: 70.0 seconds\n",
      "Epoch: 162/199 | Loss: 0.3639 | Episodes: 30 | Win count: 160 | Win rate: 1.000 | time: 71.6 seconds\n",
      "Epoch: 163/199 | Loss: 0.3665 | Episodes: 15 | Win count: 161 | Win rate: 1.000 | time: 72.3 seconds\n",
      "Epoch: 164/199 | Loss: 0.4100 | Episodes: 20 | Win count: 162 | Win rate: 1.000 | time: 73.5 seconds\n",
      "Epoch: 165/199 | Loss: 0.0684 | Episodes: 4 | Win count: 163 | Win rate: 1.000 | time: 73.7 seconds\n",
      "Epoch: 166/199 | Loss: 0.0897 | Episodes: 5 | Win count: 164 | Win rate: 1.000 | time: 73.8 seconds\n",
      "Epoch: 167/199 | Loss: 1.2763 | Episodes: 49 | Win count: 165 | Win rate: 1.000 | time: 75.4 seconds\n",
      "Epoch: 168/199 | Loss: 0.1510 | Episodes: 4 | Win count: 166 | Win rate: 1.000 | time: 75.6 seconds\n",
      "Epoch: 169/199 | Loss: 0.9345 | Episodes: 30 | Win count: 167 | Win rate: 1.000 | time: 76.6 seconds\n",
      "Epoch: 170/199 | Loss: 2.3411 | Episodes: 81 | Win count: 167 | Win rate: 0.900 | time: 81.1 seconds\n",
      "Epoch: 171/199 | Loss: 2.2621 | Episodes: 79 | Win count: 167 | Win rate: 0.800 | time: 83.6 seconds\n",
      "Epoch: 172/199 | Loss: 0.2707 | Episodes: 12 | Win count: 168 | Win rate: 0.800 | time: 83.9 seconds\n",
      "Epoch: 173/199 | Loss: 2.8885 | Episodes: 59 | Win count: 168 | Win rate: 0.700 | time: 85.4 seconds\n",
      "Epoch: 174/199 | Loss: 3.7481 | Episodes: 69 | Win count: 168 | Win rate: 0.600 | time: 88.3 seconds\n",
      "Epoch: 175/199 | Loss: 0.4331 | Episodes: 5 | Win count: 169 | Win rate: 0.600 | time: 88.4 seconds\n",
      "Epoch: 176/199 | Loss: 3.4984 | Episodes: 50 | Win count: 169 | Win rate: 0.500 | time: 97.2 seconds\n",
      "Epoch: 177/199 | Loss: 4.1115 | Episodes: 77 | Win count: 169 | Win rate: 0.400 | time: 100.9 seconds\n",
      "Epoch: 178/199 | Loss: 2.1097 | Episodes: 39 | Win count: 170 | Win rate: 0.400 | time: 102.2 seconds\n",
      "Epoch: 179/199 | Loss: 0.1381 | Episodes: 2 | Win count: 171 | Win rate: 0.400 | time: 102.3 seconds\n",
      "Epoch: 180/199 | Loss: 0.1798 | Episodes: 2 | Win count: 172 | Win rate: 0.500 | time: 102.4 seconds\n",
      "Epoch: 181/199 | Loss: 0.5726 | Episodes: 12 | Win count: 173 | Win rate: 0.600 | time: 102.7 seconds\n",
      "Epoch: 182/199 | Loss: 1.1104 | Episodes: 17 | Win count: 174 | Win rate: 0.600 | time: 103.6 seconds\n",
      "Epoch: 183/199 | Loss: 1.1292 | Episodes: 19 | Win count: 175 | Win rate: 0.700 | time: 104.5 seconds\n",
      "Epoch: 184/199 | Loss: 0.4205 | Episodes: 7 | Win count: 176 | Win rate: 0.800 | time: 104.9 seconds\n",
      "Epoch: 185/199 | Loss: 0.1217 | Episodes: 2 | Win count: 177 | Win rate: 0.800 | time: 105.0 seconds\n",
      "Epoch: 186/199 | Loss: 0.3034 | Episodes: 5 | Win count: 178 | Win rate: 0.900 | time: 105.3 seconds\n",
      "Epoch: 187/199 | Loss: 1.3685 | Episodes: 35 | Win count: 179 | Win rate: 1.000 | time: 106.8 seconds\n",
      "Epoch: 188/199 | Loss: 0.1194 | Episodes: 2 | Win count: 180 | Win rate: 1.000 | time: 106.8 seconds\n",
      "Epoch: 189/199 | Loss: 1.0628 | Episodes: 15 | Win count: 181 | Win rate: 1.000 | time: 107.7 seconds\n",
      "Epoch: 190/199 | Loss: 0.2068 | Episodes: 5 | Win count: 182 | Win rate: 1.000 | time: 108.0 seconds\n",
      "Epoch: 191/199 | Loss: 0.1892 | Episodes: 7 | Win count: 183 | Win rate: 1.000 | time: 108.2 seconds\n",
      "Epoch: 192/199 | Loss: 0.0290 | Episodes: 1 | Win count: 184 | Win rate: 1.000 | time: 108.2 seconds\n",
      "Epoch: 193/199 | Loss: 0.2534 | Episodes: 8 | Win count: 185 | Win rate: 1.000 | time: 108.6 seconds\n",
      "Epoch: 194/199 | Loss: 0.7374 | Episodes: 8 | Win count: 186 | Win rate: 1.000 | time: 109.7 seconds\n",
      "Epoch: 195/199 | Loss: 0.7671 | Episodes: 10 | Win count: 187 | Win rate: 1.000 | time: 110.9 seconds\n",
      "Epoch: 196/199 | Loss: 0.1605 | Episodes: 3 | Win count: 188 | Win rate: 1.000 | time: 111.0 seconds\n",
      "Epoch: 197/199 | Loss: 0.1667 | Episodes: 4 | Win count: 189 | Win rate: 1.000 | time: 111.1 seconds\n",
      "Epoch: 198/199 | Loss: 0.1045 | Episodes: 4 | Win count: 190 | Win rate: 1.000 | time: 111.8 seconds\n",
      "Epoch: 199/199 | Loss: 0.1055 | Episodes: 3 | Win count: 191 | Win rate: 1.000 | time: 112.2 seconds\n",
      "n_epoch: 199, max_mem: 200, data: 16, time: 114.4 seconds\n"
     ]
    },
    {
     "data": {
      "image/png": "[encoded data removed]",
      "text/plain": [
       "<Figure size 432x288 with 1 Axes>"
      ]
     },
     "metadata": {
      "needs_background": "light"
     },
     "output_type": "display_data"
    },
    {
     "name": "stdout",
     "output_type": "stream",
     "text": [
      "Vizualisation of the trained policy\n"
     ]
    },
    {
     "data": {
      "text/plain": [
       "[['↓', '#', '↓', '→', '↓'],\n",
       " ['↓', '#', '↓', '#', '↓'],\n",
       " ['↓', '#', '→', '→', '↓'],\n",
       " ['↓', '#', '↓', '#', '↓'],\n",
       " ['→', '→', '→', '→', 'G']]"
      ]
     },
     "execution_count": 5,
     "metadata": {},
     "output_type": "execute_result"
    }
   ],
   "source": [
    "loss_n = nn.MSELoss()\n",
    "nb_epochs = 200\n",
    "\n",
    "fix_seeds()\n",
    "model3 = Net(maze3.size, num_actions)\n",
    "optimizer = optim.Adam(model3.parameters())\n",
    "tab_loss, tab_cumulative_reward, tab_win = qtrain(model3, qmaze3, optimizer, loss_n, n_epoch=nb_epochs, max_memory=8*maze3.size, n_epoch_fit=8, \n",
    "                    name='model_parameters_config_3', eps_decay=0.99, eps_start=0.9)\n",
    "\n",
    "plt.plot(tab_loss)\n",
    "plt.ylabel(\"Loss\")\n",
    "plt.xlabel(\"Epochs\")\n",
    "plt.show()\n",
    "\n",
    "print(\"Vizualisation of the trained policy\")\n",
    "print_stoch_policy(model3, qmaze3) # to check the training went well"
   ]
  },
  {
   "cell_type": "markdown",
   "metadata": {},
   "source": [
    "We can then vizualise the distribution of returns for each strategy"
   ]
  },
  {
   "cell_type": "code",
   "execution_count": 58,
   "metadata": {},
   "outputs": [
    {
     "data": {
      "application/vnd.jupyter.widget-view+json": {
       "model_id": "6f4a66178b4d451faba5abb0f4425a91",
       "version_major": 2,
       "version_minor": 0
      },
      "text/plain": [
       "  0%|          | 0/1000 [00:00<?, ?it/s]"
      ]
     },
     "metadata": {},
     "output_type": "display_data"
    },
    {
     "data": {
      "application/vnd.jupyter.widget-view+json": {
       "model_id": "00b103f15fe64feeb920b04c72c77e19",
       "version_major": 2,
       "version_minor": 0
      },
      "text/plain": [
       "  0%|          | 0/10000 [00:00<?, ?it/s]"
      ]
     },
     "metadata": {},
     "output_type": "display_data"
    },
    {
     "data": {
      "image/png": "[encoded data removed]",
      "text/plain": [
       "<Figure size 432x288 with 1 Axes>"
      ]
     },
     "metadata": {
      "needs_background": "light"
     },
     "output_type": "display_data"
    },
    {
     "data": {
      "application/vnd.jupyter.widget-view+json": {
       "model_id": "bd87ccfd6e544e86b4db9c5c17bc3f4c",
       "version_major": 2,
       "version_minor": 0
      },
      "text/plain": [
       "  0%|          | 0/1000 [00:00<?, ?it/s]"
      ]
     },
     "metadata": {},
     "output_type": "display_data"
    },
    {
     "data": {
      "application/vnd.jupyter.widget-view+json": {
       "model_id": "149734b1b2584b5b936ad82d2a814005",
       "version_major": 2,
       "version_minor": 0
      },
      "text/plain": [
       "  0%|          | 0/10000 [00:00<?, ?it/s]"
      ]
     },
     "metadata": {},
     "output_type": "display_data"
    },
    {
     "data": {
      "image/png": "[encoded data removed]",
      "text/plain": [
       "<Figure size 432x288 with 1 Axes>"
      ]
     },
     "metadata": {
      "needs_background": "light"
     },
     "output_type": "display_data"
    }
   ],
   "source": [
    "m=150\n",
    "V_min = -1\n",
    "V_max = 1.\n",
    "\n",
    "p=0.1\n",
    "qmaze3 = Qmaze(maze=maze3, random_init=False, door_mode=True, prob_door_close=p) \n",
    "\n",
    "P_risky = online_categorical_TD_learning(model3, m, V_min, V_max, qmaze3, n_episode=1000)\n",
    "P_start_risky = P_risky[:,0,0]\n",
    "\n",
    "P_safe = online_categorical_TD_learning(model2, m, V_min, V_max, qmaze3, n_episode=10000)\n",
    "P_start_safe = P_safe[:,0,0]\n",
    "\n",
    "theta = np.linspace(V_min, V_max, m)\n",
    "m_risky = np.sum(P_start_risky*theta)\n",
    "m_safe = np.sum(P_start_safe*theta)\n",
    "\n",
    "plt.hist(np.linspace(V_min, V_max, m), weights=P_start_risky, bins=m, label='Risky strategy', color=\"r\")\n",
    "plt.vlines(m_risky,0,0.8, label='Mean return for the risky strategy', color='b')\n",
    "plt.hist(np.linspace(V_min, V_max, m), weights=P_start_safe, bins=m, label=\"Safe strategy\", color=\"g\")\n",
    "\n",
    "plt.legend(loc='upper left')\n",
    "plt.title(\"Distribution of returns for each strategy with p=\"+str(p))\n",
    "plt.show()\n",
    "\n",
    "p=0.5\n",
    "qmaze3 = Qmaze(maze=maze3, random_init=False, door_mode=True, prob_door_close=p) \n",
    "\n",
    "P_risky = online_categorical_TD_learning(model3, m, V_min, V_max, qmaze3, n_episode=1000)\n",
    "P_start_risky = P_risky[:,0,0]\n",
    "\n",
    "P_safe = online_categorical_TD_learning(model2, m, V_min, V_max, qmaze3, n_episode=10000)\n",
    "P_start_safe = P_safe[:,0,0]\n",
    "\n",
    "theta = np.linspace(V_min, V_max, m)\n",
    "m_risky = np.sum(P_start_risky*theta)\n",
    "m_safe = np.sum(P_start_safe*theta)\n",
    "\n",
    "plt.hist(np.linspace(V_min, V_max, m), weights=P_start_risky, bins=m, label='Risky strategy', color=\"r\")\n",
    "plt.vlines(m_risky,0,0.8, label='Mean return for the risky strategy', color='b')\n",
    "plt.hist(np.linspace(V_min, V_max, m), weights=P_start_safe, bins=m, label=\"Safe strategy\", color=\"g\")\n",
    "\n",
    "plt.legend(loc='upper left')\n",
    "plt.title(\"Distribution of returns for each strategy with p=\"+str(p))\n",
    "plt.show()"
   ]
  },
  {
   "cell_type": "markdown",
   "metadata": {},
   "source": [
    "Finally, we can evaluate the mean-variance risk measure of each strategy for different penalization. \n",
    "\n",
    "The mean-variance risk-measure is defined, for a random variable $X$, as : $\\rho_{MV,\\lambda} = \\mathbb{E}[X] - \\lambda \\mathbb{V}[X]$"
   ]
  },
  {
   "cell_type": "code",
   "execution_count": 11,
   "metadata": {},
   "outputs": [
    {
     "data": {
      "image/png": "[encoded data removed]",
      "text/plain": [
       "<Figure size 432x288 with 1 Axes>"
      ]
     },
     "metadata": {
      "needs_background": "light"
     },
     "output_type": "display_data"
    }
   ],
   "source": [
    "p=0.12\n",
    "qmaze3 = Qmaze(maze=maze3, random_init=False, door_mode=True, prob_door_close=p) \n",
    "\n",
    "mean_var_risky = []\n",
    "mean_var_safe = []\n",
    "tab_lambd = np.linspace(0,1.5,15)\n",
    "for lambd in tab_lambd:\n",
    "    mv=[]\n",
    "    for _ in range(15):\n",
    "        M_risky = moment_2_TD_learning(model3, qmaze3, n_episode=10000)\n",
    "        mv.append(M_risky[1,0,0] - lambd*(M_risky[2,0,0] - M_risky[1,0,0]**2))\n",
    "    mean_var_risky.append(np.mean(mv))\n",
    "    \n",
    "    M_safe = moment_2_TD_learning(model2, qmaze3, n_episode=100)\n",
    "    mean_var_safe.append(M_safe[1,0,0] - lambd*(M_safe[2,0,0] - M_safe[1,0,0]**2))\n",
    "\n",
    "plt.plot(tab_lambd, mean_var_risky, label='Risky strategy', color=\"r\")\n",
    "plt.plot(tab_lambd, mean_var_safe, label='Safe strategy', color=\"g\")\n",
    "plt.legend()\n",
    "plt.title(\"Mean-variance risk measure as a fonction of the penalization for each strategy with p=\"+str(p))\n",
    "plt.xlabel(\"Lambda\")\n",
    "plt.show()\n"
   ]
  }
 ],
 "metadata": {
  "interpreter": {
   "hash": "957668f77d739aed3606dc0cb3e6b9836150d21e7c3a979985571ea2faa3bd84"
  },
  "kernelspec": {
   "display_name": "Python 3.7.6 ('base')",
   "language": "python",
   "name": "python3"
  },
  "language_info": {
   "codemirror_mode": {
    "name": "ipython",
    "version": 3
   },
   "file_extension": ".py",
   "mimetype": "text/x-python",
   "name": "python",
   "nbconvert_exporter": "python",
   "pygments_lexer": "ipython3",
   "version": "3.7.6"
  },
  "orig_nbformat": 4
 },
 "nbformat": 4,
 "nbformat_minor": 2
}
